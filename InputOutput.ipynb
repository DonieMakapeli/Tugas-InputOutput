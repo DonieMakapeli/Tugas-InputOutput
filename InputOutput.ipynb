{
 "cells": [
  {
   "cell_type": "code",
   "execution_count": 1,
   "id": "cddde3c0-d76a-4209-ad78-ed8a1fe3c28e",
   "metadata": {},
   "outputs": [
    {
     "name": "stdin",
     "output_type": "stream",
     "text": [
      "Masukkan nama Anda:  Donie Makapeli\n",
      "Masukkan NIM Anda:  20230040172\n",
      "Masukkan umur Anda:  18\n",
      "Masukkan alamat Anda:  Cibadak,Kp.Bojong Jagal rw 02 rt 02\n"
     ]
    },
    {
     "name": "stdout",
     "output_type": "stream",
     "text": [
      "Biodata\n",
      "Nama: Donie Makapeli\n",
      "NIM: 20230040172\n",
      "Alamat: Cibadak,Kp.Bojong Jagal rw 02 rt 02\n"
     ]
    }
   ],
   "source": [
    "nama = input(\"Masukkan nama Anda: \")\n",
    "nim = input(\"Masukkan NIM Anda: \")\n",
    "umur = input(\"Masukkan umur Anda: \")\n",
    "alamat = input(\"Masukkan alamat Anda: \")\n",
    "\n",
    "print(\"Biodata\")\n",
    "print(\"Nama:\", nama)\n",
    "print(\"NIM:\", nim)\n",
    "print(\"Alamat:\", alamat)\n"
   ]
  },
  {
   "cell_type": "code",
   "execution_count": 2,
   "id": "8737ecca-856a-4973-b574-53ea1a621eec",
   "metadata": {},
   "outputs": [
    {
     "name": "stdout",
     "output_type": "stream",
     "text": [
      "PUTRA NUSA\n",
      "NIVERSITAS NSA PTRA SKABMI\n",
      "SUKABUMI PUTRA NUSA UNIVERSITAS\n",
      "UNPS\n",
      "TAS SAPU BUMI\n"
     ]
    }
   ],
   "source": [
    "kalimat =\"UNIVERSITAS NUSA PUTRA SUKABUMI\"\n",
    "\n",
    "# putra nusa\n",
    "print(kalimat[17:22], kalimat[12:16])\n",
    "\n",
    "# NIVERSITAS NSA PTRA SKABMI\n",
    "print(kalimat[1:11], kalimat[12:13]+kalimat[14:15]+kalimat[15:16], kalimat[17:18]+kalimat[19:20]+kalimat[20:21]+kalimat[21:22]\n",
    "      , kalimat[23:24]+kalimat[25:26]+kalimat[26:27]+kalimat[27:28]+kalimat[29:31])\n",
    "\n",
    "# SUKABUMI PUTRA NUSA UNIVERSITAS\n",
    "kata1 = kalimat.split()[0]\n",
    "kata2 = kalimat.split()[1]\n",
    "kata3 = kalimat.split()[2]\n",
    "kata4 = kalimat.split()[3]\n",
    "print(f\"{kata4} {kata3} {kata2} {kata1}\")\n",
    "\n",
    "\n",
    "# UNPS\n",
    "print(kalimat[0:1]+kalimat[12:13]+kalimat[17:18]+kalimat[23:24])\n",
    "\n",
    "# TAS SAPU BUMI\n",
    "print(kalimat[8:11],kalimat[14:16]+kalimat[17:19], kalimat[27:34])\n"
   ]
  }
 ],
 "metadata": {
  "kernelspec": {
   "display_name": "Python 3 (ipykernel)",
   "language": "python",
   "name": "python3"
  },
  "language_info": {
   "codemirror_mode": {
    "name": "ipython",
    "version": 3
   },
   "file_extension": ".py",
   "mimetype": "text/x-python",
   "name": "python",
   "nbconvert_exporter": "python",
   "pygments_lexer": "ipython3",
   "version": "3.11.7"
  }
 },
 "nbformat": 4,
 "nbformat_minor": 5
}
